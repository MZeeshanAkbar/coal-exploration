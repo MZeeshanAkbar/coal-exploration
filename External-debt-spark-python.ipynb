{
    "cells": [
        {
            "cell_type": "code",
            "execution_count": 5,
            "metadata": {},
            "outputs": [
                {
                    "name": "stdout",
                    "output_type": "stream",
                    "text": "+-------------+-------------+----------+--------------------+---------------+--------------------+\n| Country Name| Country ISO3|      Year|      Indicator Name| Indicator Code|               Value|\n+-------------+-------------+----------+--------------------+---------------+--------------------+\n|#country+name|#country+code|#date+year|     #indicator+name|#indicator+code|#indicator+value+num|\n|     Pakistan|          PAK|      2018|Imports of goods,...| BM.GSR.TOTL.CD|         74122240000|\n|     Pakistan|          PAK|      2017|Imports of goods,...| BM.GSR.TOTL.CD|         70366000000|\n|     Pakistan|          PAK|      2016|Imports of goods,...| BM.GSR.TOTL.CD|         57580000000|\n|     Pakistan|          PAK|      2015|Imports of goods,...| BM.GSR.TOTL.CD|         54278000000|\n|     Pakistan|          PAK|      2014|Imports of goods,...| BM.GSR.TOTL.CD|         55954000000|\n|     Pakistan|          PAK|      2013|Imports of goods,...| BM.GSR.TOTL.CD|         53631000000|\n|     Pakistan|          PAK|      2012|Imports of goods,...| BM.GSR.TOTL.CD|         52876000000|\n|     Pakistan|          PAK|      2011|Imports of goods,...| BM.GSR.TOTL.CD|         51089000000|\n|     Pakistan|          PAK|      2010|Imports of goods,...| BM.GSR.TOTL.CD|         43884000000|\n|     Pakistan|          PAK|      2009|Imports of goods,...| BM.GSR.TOTL.CD|         39372430000|\n|     Pakistan|          PAK|      2008|Imports of goods,...| BM.GSR.TOTL.CD|         53573000000|\n|     Pakistan|          PAK|      2007|Imports of goods,...| BM.GSR.TOTL.CD|         42690000000|\n|     Pakistan|          PAK|      2006|Imports of goods,...| BM.GSR.TOTL.CD|         39097000000|\n|     Pakistan|          PAK|      2005|Imports of goods,...| BM.GSR.TOTL.CD|         32448200000|\n|     Pakistan|          PAK|      2004|Imports of goods,...| BM.GSR.TOTL.CD|         24591050000|\n|     Pakistan|          PAK|      2003|Imports of goods,...| BM.GSR.TOTL.CD|         17614000000|\n|     Pakistan|          PAK|      2002|Imports of goods,...| BM.GSR.TOTL.CD|         14980000000|\n|     Pakistan|          PAK|      2001|Imports of goods,...| BM.GSR.TOTL.CD|         14141000000|\n|     Pakistan|          PAK|      2000|Imports of goods,...| BM.GSR.TOTL.CD|         14362000000|\n|     Pakistan|          PAK|      1999|Imports of goods,...| BM.GSR.TOTL.CD|         13524000000|\n|     Pakistan|          PAK|      1998|Imports of goods,...| BM.GSR.TOTL.CD|         14259000000|\n|     Pakistan|          PAK|      1997|Imports of goods,...| BM.GSR.TOTL.CD|         15774816944|\n|     Pakistan|          PAK|      1996|Imports of goods,...| BM.GSR.TOTL.CD|         17820301728|\n|     Pakistan|          PAK|      1995|Imports of goods,...| BM.GSR.TOTL.CD|         16310679894|\n|     Pakistan|          PAK|      1994|Imports of goods,...| BM.GSR.TOTL.CD|         13714282162|\n|     Pakistan|          PAK|      1993|Imports of goods,...| BM.GSR.TOTL.CD|         13628188559|\n|     Pakistan|          PAK|      1992|Imports of goods,...| BM.GSR.TOTL.CD|         13884468482|\n|     Pakistan|          PAK|      1991|Imports of goods,...| BM.GSR.TOTL.CD|         12258919216|\n|     Pakistan|          PAK|      1990|Imports of goods,...| BM.GSR.TOTL.CD|         11385915086|\n|     Pakistan|          PAK|      1989|Imports of goods,...| BM.GSR.TOTL.CD|         10222060220|\n|     Pakistan|          PAK|      1988|Imports of goods,...| BM.GSR.TOTL.CD|          9535387238|\n|     Pakistan|          PAK|      1987|Imports of goods,...| BM.GSR.TOTL.CD|          8480270706|\n|     Pakistan|          PAK|      1986|Imports of goods,...| BM.GSR.TOTL.CD|          7957432102|\n|     Pakistan|          PAK|      1985|Imports of goods,...| BM.GSR.TOTL.CD|          7785093340|\n|     Pakistan|          PAK|      1984|Imports of goods,...| BM.GSR.TOTL.CD|          8021169425|\n|     Pakistan|          PAK|      1983|Imports of goods,...| BM.GSR.TOTL.CD|          7188165950|\n|     Pakistan|          PAK|      1982|Imports of goods,...| BM.GSR.TOTL.CD|          7256314211|\n|     Pakistan|          PAK|      1981|Imports of goods,...| BM.GSR.TOTL.CD|          6980346481|\n|     Pakistan|          PAK|      1980|Imports of goods,...| BM.GSR.TOTL.CD|          6706937737|\n|     Pakistan|          PAK|      1979|Imports of goods,...| BM.GSR.TOTL.CD|          5414183252|\n|     Pakistan|          PAK|      1978|Imports of goods,...| BM.GSR.TOTL.CD|          4096056760|\n|     Pakistan|          PAK|      1977|Imports of goods,...| BM.GSR.TOTL.CD|          3216561520|\n|     Pakistan|          PAK|      1976|Imports of goods,...| BM.GSR.TOTL.CD|          2812131734|\n|     Pakistan|          PAK|      2018|Current account b...| BN.CAB.XOKA.CD|        -19191340000|\n|     Pakistan|          PAK|      2017|Current account b...| BN.CAB.XOKA.CD|        -16927000000|\n|     Pakistan|          PAK|      2016|Current account b...| BN.CAB.XOKA.CD|         -7094000000|\n|     Pakistan|          PAK|      2015|Current account b...| BN.CAB.XOKA.CD|         -2776000000|\n|     Pakistan|          PAK|      2014|Current account b...| BN.CAB.XOKA.CD|         -3642000000|\n|     Pakistan|          PAK|      2013|Current account b...| BN.CAB.XOKA.CD|         -4416000000|\n+-------------+-------------+----------+--------------------+---------------+--------------------+\nonly showing top 50 rows\n\n"
                },
                {
                    "data": {
                        "text/plain": "configurationName = os_59f4a9ebc96a452b9c667f6a5223ff69_configs\ncos = com.ibm.ibmos2spark.CloudObjectStorage@30babcc7\nspark = org.apache.spark.sql.SparkSession@10c27c7e\ndfData1 = [Country Name: string, Country ISO3: string ... 4 more fields]\n"
                    },
                    "metadata": {},
                    "output_type": "display_data"
                },
                {
                    "data": {
                        "text/plain": "getCredentials: ()scala.collection.mutable.HashMap[String,String]\n"
                    },
                    "metadata": {},
                    "output_type": "display_data"
                },
                {
                    "data": {
                        "text/plain": "[Country Name: string, Country ISO3: string ... 4 more fields]"
                    },
                    "execution_count": 5,
                    "metadata": {},
                    "output_type": "execute_result"
                }
            ],
            "source": "// The code was removed by Watson Studio for sharing."
        },
        {
            "cell_type": "code",
            "execution_count": null,
            "metadata": {},
            "outputs": [],
            "source": ""
        }
    ],
    "metadata": {
        "kernelspec": {
            "display_name": "Scala 2.11 with Spark",
            "language": "scala",
            "name": "scala"
        },
        "language_info": {
            "codemirror_mode": "text/x-scala",
            "file_extension": ".scala",
            "mimetype": "text/x-scala",
            "name": "scala",
            "pygments_lexer": "scala",
            "version": "2.11.12"
        }
    },
    "nbformat": 4,
    "nbformat_minor": 1
}